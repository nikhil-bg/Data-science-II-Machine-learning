{
  "nbformat": 4,
  "nbformat_minor": 0,
  "metadata": {
    "colab": {
      "provenance": []
    },
    "kernelspec": {
      "name": "python3",
      "display_name": "Python 3"
    },
    "language_info": {
      "name": "python"
    }
  },
  "cells": [
    {
      "cell_type": "code",
      "execution_count": 5,
      "metadata": {
        "id": "AFcR1F1VchlX"
      },
      "outputs": [],
      "source": [
        "import pandas as pd\n",
        "from sklearn.model_selection import train_test_split\n",
        "from sklearn.feature_extraction.text import CountVectorizer\n",
        "from sklearn.naive_bayes import MultinomialNB\n",
        "from sklearn.metrics import accuracy_score, classification_report\n",
        "from sklearn.pipeline import make_pipeline\n",
        "from sklearn.feature_extraction.text import TfidfVectorizer\n",
        "from sklearn.svm import SVC\n",
        "from sklearn.model_selection import cross_val_score\n"
      ]
    },
    {
      "cell_type": "code",
      "source": [
        "# Load the dataset\n",
        "df = pd.read_csv('/content/drive/MyDrive/Compozent /Emotion_classify_Data.csv')\n"
      ],
      "metadata": {
        "id": "5ixIp9Rdd5Vt"
      },
      "execution_count": 6,
      "outputs": []
    },
    {
      "cell_type": "code",
      "source": [
        "# Display the first few rows of the dataset\n",
        "print(df.head())\n",
        "\n",
        "# Display basic information about the dataset\n",
        "print(df.info())\n"
      ],
      "metadata": {
        "colab": {
          "base_uri": "https://localhost:8080/"
        },
        "id": "iMN2Kc_8d90w",
        "outputId": "835bddc4-a347-4ee4-d438-98f334773de0"
      },
      "execution_count": 7,
      "outputs": [
        {
          "output_type": "stream",
          "name": "stdout",
          "text": [
            "                                             Comment Emotion\n",
            "0  i seriously hate one subject to death but now ...    fear\n",
            "1                 im so full of life i feel appalled   anger\n",
            "2  i sit here to write i start to dig out my feel...    fear\n",
            "3  ive been really angry with r and i feel like a...     joy\n",
            "4  i feel suspicious if there is no one outside l...    fear\n",
            "<class 'pandas.core.frame.DataFrame'>\n",
            "RangeIndex: 5937 entries, 0 to 5936\n",
            "Data columns (total 2 columns):\n",
            " #   Column   Non-Null Count  Dtype \n",
            "---  ------   --------------  ----- \n",
            " 0   Comment  5937 non-null   object\n",
            " 1   Emotion  5937 non-null   object\n",
            "dtypes: object(2)\n",
            "memory usage: 92.9+ KB\n",
            "None\n"
          ]
        }
      ]
    },
    {
      "cell_type": "code",
      "source": [
        "#Text Vectorization\n",
        "# Split the dataset into training and testing sets\n",
        "X_train, X_test, y_train, y_test = train_test_split(df['Comment'], df['Emotion'], test_size=0.2, random_state=42)\n",
        "\n",
        "# Create a pipeline with a TF-IDF vectorizer and a support vector machine (SVM) classifier\n",
        "model = make_pipeline(TfidfVectorizer(), SVC())\n",
        "\n",
        "# Train the model\n",
        "model.fit(X_train, y_train)\n",
        "\n",
        "# Evaluate the model\n",
        "predictions = model.predict(X_test)\n",
        "accuracy = accuracy_score(y_test, predictions)\n",
        "\n",
        "print(f'Accuracy: {accuracy:.2f}')\n",
        "print('\\nClassification Report:\\n', classification_report(y_test, predictions))\n"
      ],
      "metadata": {
        "colab": {
          "base_uri": "https://localhost:8080/"
        },
        "id": "D2uXWfUFeCK_",
        "outputId": "c7fe6089-8ecf-4370-a344-ceed1c41ad99"
      },
      "execution_count": 8,
      "outputs": [
        {
          "output_type": "stream",
          "name": "stdout",
          "text": [
            "Accuracy: 0.91\n",
            "\n",
            "Classification Report:\n",
            "               precision    recall  f1-score   support\n",
            "\n",
            "       anger       0.90      0.92      0.91       392\n",
            "        fear       0.96      0.87      0.91       416\n",
            "         joy       0.89      0.95      0.92       380\n",
            "\n",
            "    accuracy                           0.91      1188\n",
            "   macro avg       0.92      0.92      0.91      1188\n",
            "weighted avg       0.92      0.91      0.91      1188\n",
            "\n"
          ]
        }
      ]
    },
    {
      "cell_type": "code",
      "source": [
        "#Sentimental analysis\n",
        "# Assuming you want to perform sentiment analysis\n",
        "sentiment_model = make_pipeline(CountVectorizer(), MultinomialNB())\n",
        "sentiment_model.fit(X_train, y_train)\n",
        "sentiment_predictions = sentiment_model.predict(X_test)\n",
        "\n",
        "print('Sentiment Accuracy:', accuracy_score(y_test, sentiment_predictions))\n"
      ],
      "metadata": {
        "colab": {
          "base_uri": "https://localhost:8080/"
        },
        "id": "4gqUH3kBeN4P",
        "outputId": "eb2daeba-4cde-4ba5-8840-e56715b74a03"
      },
      "execution_count": 9,
      "outputs": [
        {
          "output_type": "stream",
          "name": "stdout",
          "text": [
            "Sentiment Accuracy: 0.8947811447811448\n"
          ]
        }
      ]
    },
    {
      "cell_type": "code",
      "source": [
        "# Cross-validation for model evaluation\n",
        "cv_scores = cross_val_score(model, df['Comment'], df['Emotion'], cv=5)\n",
        "print('Cross-validation Mean Accuracy:', cv_scores.mean())\n"
      ],
      "metadata": {
        "colab": {
          "base_uri": "https://localhost:8080/"
        },
        "id": "T5yFK-4reQdf",
        "outputId": "cb9cbb9b-9440-4e0a-96eb-7b7520dcb82f"
      },
      "execution_count": 10,
      "outputs": [
        {
          "output_type": "stream",
          "name": "stdout",
          "text": [
            "Cross-validation Mean Accuracy: 0.9125810194049453\n"
          ]
        }
      ]
    },
    {
      "cell_type": "code",
      "source": [
        "from keras.preprocessing.text import Tokenizer\n",
        "from keras.preprocessing.sequence import pad_sequences\n",
        "from keras.models import Sequential\n",
        "from keras.layers import Embedding, LSTM, Dense\n",
        "\n",
        "# Tokenize the comments\n",
        "tokenizer = Tokenizer()\n",
        "tokenizer.fit_on_texts(df['Comment'])\n",
        "X_sequence = tokenizer.texts_to_sequences(df['Comment'])\n",
        "X_padded = pad_sequences(X_sequence, maxlen=50)  # Adjust maxlen based on the maximum sequence length in your data\n",
        "\n",
        "# Define an LSTM model\n",
        "lstm_model = Sequential()\n",
        "lstm_model.add(Embedding(input_dim=len(tokenizer.word_index) + 1, output_dim=100, input_length=50))\n",
        "lstm_model.add(LSTM(100))\n",
        "lstm_model.add(Dense(3, activation='softmax'))  # Adjust the number of units based on the number of classes\n",
        "lstm_model.compile(loss='categorical_crossentropy', optimizer='adam', metrics=['accuracy'])\n",
        "\n",
        "# Train the LSTM model\n",
        "lstm_model.fit(X_padded, pd.get_dummies(df['Emotion']), epochs=5, batch_size=32, validation_split=0.2)\n",
        "\n",
        "# Evaluate the LSTM model\n",
        "X_test_sequence = tokenizer.texts_to_sequences(X_test)\n",
        "X_test_padded = pad_sequences(X_test_sequence, maxlen=50)\n",
        "accuracy_lstm = lstm_model.evaluate(X_test_padded, pd.get_dummies(y_test))[1]\n",
        "\n",
        "print(f'LSTM Model Accuracy: {accuracy_lstm:.2f}')\n"
      ],
      "metadata": {
        "colab": {
          "base_uri": "https://localhost:8080/"
        },
        "id": "CjnszBy4ehvC",
        "outputId": "e5eea388-759c-4c8f-b17e-207d7b3d5e9b"
      },
      "execution_count": 12,
      "outputs": [
        {
          "output_type": "stream",
          "name": "stdout",
          "text": [
            "Epoch 1/5\n",
            "149/149 [==============================] - 16s 89ms/step - loss: 0.9238 - accuracy: 0.5490 - val_loss: 0.5595 - val_accuracy: 0.7980\n",
            "Epoch 2/5\n",
            "149/149 [==============================] - 9s 61ms/step - loss: 0.2446 - accuracy: 0.9282 - val_loss: 0.2723 - val_accuracy: 0.9074\n",
            "Epoch 3/5\n",
            "149/149 [==============================] - 12s 79ms/step - loss: 0.0736 - accuracy: 0.9798 - val_loss: 0.2559 - val_accuracy: 0.9125\n",
            "Epoch 4/5\n",
            "149/149 [==============================] - 11s 75ms/step - loss: 0.0322 - accuracy: 0.9924 - val_loss: 0.2213 - val_accuracy: 0.9293\n",
            "Epoch 5/5\n",
            "149/149 [==============================] - 10s 66ms/step - loss: 0.0172 - accuracy: 0.9966 - val_loss: 0.2664 - val_accuracy: 0.9268\n",
            "38/38 [==============================] - 1s 15ms/step - loss: 0.0553 - accuracy: 0.9815\n",
            "LSTM Model Accuracy: 0.98\n"
          ]
        }
      ]
    }
  ]
}